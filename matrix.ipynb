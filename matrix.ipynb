{
 "cells": [
  {
   "cell_type": "code",
   "execution_count": 1,
   "id": "acf16e16-6343-447c-b608-77e30e7df499",
   "metadata": {},
   "outputs": [
    {
     "name": "stdout",
     "output_type": "stream",
     "text": [
      "Matrix a:\n",
      " [[1 2]\n",
      " [3 4]]\n",
      "Matrix b:\n",
      " [[5 6]\n",
      " [7 8]]\n",
      "\n",
      "Addition:\n",
      " [[ 6  8]\n",
      " [10 12]]\n",
      "\n",
      "Subtraction:\n",
      " [[-4 -4]\n",
      " [-4 -4]]\n",
      "\n",
      "Multiplication:\n",
      " [[ 5 12]\n",
      " [21 32]]\n",
      "\n",
      "Transpose:\n",
      " [[1 3]\n",
      " [2 4]]\n",
      "\n",
      "Dot product:\n",
      " [[19 22]\n",
      " [43 50]]\n"
     ]
    }
   ],
   "source": [
    "#matrix operation using vectorization\n",
    "import numpy as np\n",
    "\n",
    "a=np.array([[1,2],[3,4]])\n",
    "b=np.array([[5,6],[7,8]])\n",
    "\n",
    "add=a+b\n",
    "sub=a-b\n",
    "mul=a*b\n",
    "trans=a.T\n",
    "dot=a@b\n",
    "\n",
    "print(\"Matrix a:\\n\", a)\n",
    "print(\"Matrix b:\\n\", b)\n",
    "\n",
    "print(\"\\nAddition:\\n\",add)\n",
    "print(\"\\nSubtraction:\\n\",sub)\n",
    "print(\"\\nMultiplication:\\n\",mul)\n",
    "print(\"\\nTranspose:\\n\",trans)\n",
    "print(\"\\nDot product:\\n\",dot)\n",
    "\n"
   ]
  },
  {
   "cell_type": "code",
   "execution_count": 6,
   "id": "b6da97c2-a3fe-4307-a8f2-263ab202479c",
   "metadata": {},
   "outputs": [
    {
     "name": "stdout",
     "output_type": "stream",
     "text": [
      "Og Matrix:\n",
      "[[1 2 3]\n",
      " [4 5 6]\n",
      " [7 8 9]]\n",
      "\n",
      "Reconstructed Matrix (with reduced dimensions):\n",
      "[[1. 2. 3.]\n",
      " [4. 5. 6.]\n",
      " [7. 8. 9.]]\n"
     ]
    }
   ],
   "source": [
    "#with SVD\n",
    "import numpy as np\n",
    "X = np.array([[1,2,3],[4,5,6],[7,8,9]])\n",
    "U,S,VT = np.linalg.svd(X)\n",
    "n_components = 2\n",
    "X_reconstructed = np.dot(U[:,:n_components],np.dot(np.diag(S[:n_components]),VT[:n_components,:]))\n",
    "print(\"Og Matrix:\")\n",
    "print(X)\n",
    "print(\"\\nReconstructed Matrix (with reduced dimensions):\")\n",
    "print(X_reconstructed)"
   ]
  },
  {
   "cell_type": "code",
   "execution_count": null,
   "id": "010e2299-8dd9-4f75-97cd-055d856e23a3",
   "metadata": {},
   "outputs": [],
   "source": []
  }
 ],
 "metadata": {
  "kernelspec": {
   "display_name": "Python 3 (ipykernel)",
   "language": "python",
   "name": "python3"
  },
  "language_info": {
   "codemirror_mode": {
    "name": "ipython",
    "version": 3
   },
   "file_extension": ".py",
   "mimetype": "text/x-python",
   "name": "python",
   "nbconvert_exporter": "python",
   "pygments_lexer": "ipython3",
   "version": "3.11.7"
  }
 },
 "nbformat": 4,
 "nbformat_minor": 5
}
