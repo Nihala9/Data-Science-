import matplotlib.pyplot as plt
import numpy as np  # Import numpy for random data generation

plt.figure(figsize=(12, 8))
plt.suptitle("Graph")

# Graph 1
plt.subplot(3, 3, 1)
plt.title("Table 1")
plt.plot([1, 3], [5, 7], "o", color="blue")
plt.xlabel("Blue color")
plt.ylabel("Blue color")

# Graph 2
plt.subplot(3, 3, 2)
plt.plot([1, 3, 5, 7, 9], [2, 6, 2, 6, 2], "*", mfc="orange", ls="-",linewidth=2.5)
plt.plot([1, 3, 5, 7, 9], [6, 3, 5, 3, 6], ls="dashed",linewidth=2.5)

# Graph 3
plt.subplot(3, 3, 3)
plt.plot([1, 3, 5, 7], [3, 6, 3, 6], marker="o", mfc="yellow", mec='black', color="blue", ls="-")

# Graph 4
plt.subplot(3, 3, 4)
plt.title("Table 2")
plt.plot([1, 3, 5, 7], [1, 3, 5, 7], ls="-")
plt.grid(True)

plt.subplot(3, 3, 5)
plt.scatter(
    np.random.rand(10) * 10,
    np.random.rand(10) * 10,
    s=[60, 180] * 5,  
    c=['skyblue', 'coral'] * 5,  
    alpha=0.8,
    edgecolors='black'
)

# Graph 6
plt.subplot(3, 3, 6)
data = [1] * 4 + [1.1] * 2 + [1.2] * 5

# Create the histogram with 3 bins, which results in three bars of different heights.
plt.hist(data, bins=3, color="red", rwidth=0.1, edgecolor='black')

# Graph 7
plt.subplot(3, 3, 7)
pie_data = [35, 20, 20, 25]
plt.pie(pie_data, labels=pie_data, explode=[0.04]*4, startangle=90, shadow=True,
    colors=["lightgreen", "pink", "wheat", "cyan"])
plt.legend()

plt.tight_layout()
plt.show()
