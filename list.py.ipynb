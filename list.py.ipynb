{
 "cells": [
  {
   "cell_type": "code",
   "execution_count": 12,
   "id": "32968295",
   "metadata": {},
   "outputs": [
    {
     "name": "stdout",
     "output_type": "stream",
     "text": [
      "Enter numbers in list: 50 80 55 12\n",
      "The largest number in the list is: 80\n"
     ]
    }
   ],
   "source": [
    "num = input(\"Enter numbers in list: \")\n",
    "\n",
    "num_list = list(map(int, num.split()))\n",
    "\n",
    "largest = max(num_list)  \n",
    "\n",
    "print(\"The largest number in the list is:\", largest)\n",
    "\n"
   ]
  },
  {
   "cell_type": "code",
   "execution_count": 14,
   "id": "31931ba5",
   "metadata": {},
   "outputs": [
    {
     "name": "stdout",
     "output_type": "stream",
     "text": [
      "Enter numbers in list :40,90,80,20\n",
      "The largest number in the list is: 90\n"
     ]
    }
   ],
   "source": [
    "num = input(\"Enter numbers in list :\")\n",
    "\n",
    "num_list=list(map(int,num.split(',')))\n",
    "\n",
    "largest = num_list[0]\n",
    "\n",
    "for num in num_list:\n",
    "    if num > largest:\n",
    "        largest=num\n",
    "\n",
    "print(\"The largest number in the list is:\", largest)"
   ]
  },
  {
   "cell_type": "code",
   "execution_count": null,
   "id": "d5c6b2c2",
   "metadata": {},
   "outputs": [],
   "source": []
  },
  {
   "cell_type": "code",
   "execution_count": null,
   "id": "e8944bde",
   "metadata": {},
   "outputs": [],
   "source": []
  }
 ],
 "metadata": {
  "kernelspec": {
   "display_name": "Python 3 (ipykernel)",
   "language": "python",
   "name": "python3"
  },
  "language_info": {
   "codemirror_mode": {
    "name": "ipython",
    "version": 3
   },
   "file_extension": ".py",
   "mimetype": "text/x-python",
   "name": "python",
   "nbconvert_exporter": "python",
   "pygments_lexer": "ipython3",
   "version": "3.10.12"
  }
 },
 "nbformat": 4,
 "nbformat_minor": 5
}
