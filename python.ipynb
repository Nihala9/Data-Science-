{
 "cells": [
  {
   "cell_type": "code",
   "execution_count": 3,
   "id": "498f05e9",
   "metadata": {},
   "outputs": [
    {
     "name": "stdout",
     "output_type": "stream",
     "text": [
      "Enter first number :10\n",
      "Enter second number :5\n",
      "\n",
      "---Arithmetic Operations---\n",
      "Add: 15.0\n",
      "Sub: 5.0\n",
      "Mul: 50.0\n",
      "Div: 2.0\n",
      "Mod: 0.0\n"
     ]
    }
   ],
   "source": [
    "a=float(input(\"Enter first number :\"))\n",
    "b=float(input(\"Enter second number :\"))\n",
    "\n",
    "c=a+b\n",
    "d=a-b\n",
    "e=a*b \n",
    "f=a/b\n",
    "g=a%b\n",
    "\n",
    "print(\"\\n---Arithmetic Operations---\")\n",
    "print(f\"Add: {c}\")\n",
    "print(f\"Sub: {d}\")\n",
    "print(f\"Mul: {e}\")\n",
    "print(f\"Div: {f}\")\n",
    "print(f\"Mod: {g}\")"
   ]
  },
  {
   "cell_type": "code",
   "execution_count": 4,
   "id": "b1debbec",
   "metadata": {},
   "outputs": [
    {
     "name": "stdout",
     "output_type": "stream",
     "text": [
      "Enter first string:Nihala\n",
      "Enter second string:Shafnas\n",
      "\n",
      "---String Operations---\n",
      "Concatenated string: NihalaShafnas\n",
      "len of s1: 6\n",
      "len of s2: 7\n",
      "s1 in uppercase: NIHALA\n",
      "s2 in lowercase: shafnas\n"
     ]
    }
   ],
   "source": [
    "s1=input(\"Enter first string:\")\n",
    "s2=input(\"Enter second string:\")\n",
    "\n",
    "concat=s1+\"\"+s2\n",
    "\n",
    "l1=len(s1)\n",
    "l2=len(s2)\n",
    "\n",
    "u1=s1.upper()\n",
    "lw2=s2.lower()\n",
    "\n",
    "print(\"\\n---String Operations---\")\n",
    "print(f\"Concatenated string: {concat}\")\n",
    "print(f\"len of s1: {l1}\")\n",
    "print(f\"len of s2: {l2}\")\n",
    "print(f\"s1 in uppercase: {u1}\")\n",
    "print(f\"s2 in lowercase: {lw2}\")\n"
   ]
  },
  {
   "cell_type": "code",
   "execution_count": 6,
   "id": "d2a1a927",
   "metadata": {},
   "outputs": [
    {
     "name": "stdout",
     "output_type": "stream",
     "text": [
      "Enter first boolean value:1\n",
      "Enter second boolean value:0\n",
      "\n",
      "---Boolean Operations---\n",
      "True AND False= False\n",
      "True OR False= True\n",
      "NOT True = False\n"
     ]
    }
   ],
   "source": [
    "a=bool(int(input(\"Enter first boolean value:\")))\n",
    "b=bool(int(input(\"Enter second boolean value:\")))\n",
    "\n",
    "and_r=a and b\n",
    "or_r=a or b\n",
    "not_a= not a\n",
    "\n",
    "print(\"\\n---Boolean Operations---\")\n",
    "print(f\"{a} AND {b}= {and_r}\")\n",
    "print(f\"{a} OR {b}= {or_r}\")\n",
    "print(f\"NOT {a} = {not_a}\")"
   ]
  },
  {
   "cell_type": "code",
   "execution_count": 12,
   "id": "8b580b1b",
   "metadata": {},
   "outputs": [
    {
     "name": "stdout",
     "output_type": "stream",
     "text": [
      "\n",
      "---List---\n",
      "list: [1, -2, 3]\n",
      "\n",
      "---Tuple---\n",
      "tuple: (10, 20, 30)\n",
      "\n",
      "---Set---\n",
      "set: {1, 2, 3}\n",
      "\n",
      "---Dictionary---\n",
      "name: Nihala\n",
      "age: 21\n"
     ]
    }
   ],
   "source": [
    "print(\"\\n---List---\")\n",
    "my_l=[1,-2,3]\n",
    "print(\"list:\",my_l)\n",
    "\n",
    "print(\"\\n---Tuple---\")\n",
    "my_t=(10,20,30)\n",
    "print(\"tuple:\",my_t)\n",
    "\n",
    "print(\"\\n---Set---\")\n",
    "my_s={1,2,3}\n",
    "print(\"set:\",my_s)\n",
    "\n",
    "\n",
    "print(\"\\n---Dictionary---\")\n",
    "my_d={'name':'Nihala','age':21}\n",
    "print(\"name:\",my_d['name'])\n",
    "print(\"age:\",my_d['age'])"
   ]
  },
  {
   "cell_type": "code",
   "execution_count": null,
   "id": "8fdf670e",
   "metadata": {},
   "outputs": [],
   "source": []
  }
 ],
 "metadata": {
  "kernelspec": {
   "display_name": "Python 3 (ipykernel)",
   "language": "python",
   "name": "python3"
  },
  "language_info": {
   "codemirror_mode": {
    "name": "ipython",
    "version": 3
   },
   "file_extension": ".py",
   "mimetype": "text/x-python",
   "name": "python",
   "nbconvert_exporter": "python",
   "pygments_lexer": "ipython3",
   "version": "3.10.12"
  }
 },
 "nbformat": 4,
 "nbformat_minor": 5
}
