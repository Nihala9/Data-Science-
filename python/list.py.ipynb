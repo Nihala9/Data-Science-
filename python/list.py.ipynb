{
 "cells": [
  {
   "cell_type": "code",
   "execution_count": 12,
   "id": "3e93b07f",
   "metadata": {},
   "outputs": [
    {
     "name": "stdout",
     "output_type": "stream",
     "text": [
      "Enter numbers in list: 50 80 55 12\n",
      "The largest number in the list is: 80\n"
     ]
    }
   ],
   "source": [
    "num = input(\"Enter numbers in list: \")\n",
    "\n",
    "num_list = list(map(int, num.split()))\n",
    "\n",
    "largest = max(num_list)  \n",
    "\n",
    "print(\"The largest number in the list is:\", largest)\n",
    "\n"
   ]
  },
  {
   "cell_type": "code",
   "execution_count": 14,
   "id": "df278c2e",
   "metadata": {},
   "outputs": [
    {
     "name": "stdout",
     "output_type": "stream",
     "text": [
      "Enter numbers in list :40,90,80,20\n",
      "The largest number in the list is: 90\n"
     ]
    }
   ],
   "source": [
    "num = input(\"Enter numbers in list :\")\n",
    "\n",
    "num_list=list(map(int,num.split(',')))\n",
    "\n",
    "largest = num_list[0]\n",
    "\n",
    "for num in num_list:\n",
    "    if num > largest:\n",
    "        largest=num\n",
    "\n",
    "print(\"The largest number in the list is:\", largest)"
   ]
  },
  {
   "cell_type": "code",
   "execution_count": 17,
   "id": "6b1d2c2b",
   "metadata": {},
   "outputs": [
    {
     "name": "stdout",
     "output_type": "stream",
     "text": [
      "Enter numbers in list: 20 44 50 44 30\n",
      "Unique numbers in list : [20, 30, 44, 50]\n"
     ]
    }
   ],
   "source": [
    "num = input(\"Enter numbers in list: \")\n",
    "\n",
    "num_list = list(map(int, num.split()))\n",
    "\n",
    "uniq_list=list(set(num_list))\n",
    "\n",
    "uniq_list.sort()\n",
    "\n",
    "print(\"Unique numbers in list :\",uniq_list)\n",
    "\n"
   ]
  },
  {
   "cell_type": "code",
   "execution_count": 19,
   "id": "402115f5",
   "metadata": {},
   "outputs": [
    {
     "name": "stdout",
     "output_type": "stream",
     "text": [
      "Enter numbers in list :20 44 55 44 55\n",
      "Unique numbers in list : [20, 44, 55]\n"
     ]
    }
   ],
   "source": [
    "num = input(\"Enter numbers in list :\")\n",
    "\n",
    "num_list=list(map(int,num.split()))\n",
    "\n",
    "uniq_list = []\n",
    "\n",
    "for n in num_list:\n",
    "    if n not in uniq_list:\n",
    "        uniq_list.append(n)\n",
    "\n",
    "print(\"Unique numbers in list :\",uniq_list)"
   ]
  },
  {
   "cell_type": "code",
   "execution_count": null,
   "id": "8d0fd091",
   "metadata": {},
   "outputs": [],
   "source": []
  }
 ],
 "metadata": {
  "kernelspec": {
   "display_name": "Python 3 (ipykernel)",
   "language": "python",
   "name": "python3"
  },
  "language_info": {
   "codemirror_mode": {
    "name": "ipython",
    "version": 3
   },
   "file_extension": ".py",
   "mimetype": "text/x-python",
   "name": "python",
   "nbconvert_exporter": "python",
   "pygments_lexer": "ipython3",
   "version": "3.11.7"
  }
 },
 "nbformat": 4,
 "nbformat_minor": 5
}
